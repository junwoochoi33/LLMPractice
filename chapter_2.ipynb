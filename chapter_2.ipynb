{
  "nbformat": 4,
  "nbformat_minor": 0,
  "metadata": {
    "colab": {
      "provenance": [],
      "authorship_tag": "ABX9TyO8orA6K9NLe9SceDUza/Vi",
      "include_colab_link": true
    },
    "kernelspec": {
      "name": "python3",
      "display_name": "Python 3"
    },
    "language_info": {
      "name": "python"
    }
  },
  "cells": [
    {
      "cell_type": "markdown",
      "metadata": {
        "id": "view-in-github",
        "colab_type": "text"
      },
      "source": [
        "<a href=\"https://colab.research.google.com/github/junwoochoi33/LLMPractice/blob/main/chapter_2.ipynb\" target=\"_parent\"><img src=\"https://colab.research.google.com/assets/colab-badge.svg\" alt=\"Open In Colab\"/></a>"
      ]
    },
    {
      "cell_type": "markdown",
      "source": [
        "## 1. 토큰화 코드"
      ],
      "metadata": {
        "id": "h8O4YwGEI0eB"
      }
    },
    {
      "cell_type": "code",
      "execution_count": 2,
      "metadata": {
        "colab": {
          "base_uri": "https://localhost:8080/"
        },
        "id": "zqO3k6QqHytF",
        "outputId": "2604dc86-c8a8-4950-eb1a-5a37fbe78479"
      },
      "outputs": [
        {
          "output_type": "stream",
          "name": "stdout",
          "text": [
            "input_text_list:  ['나는', '최근', '파리', '여행을', '다녀왔다']\n",
            "str2idx:  {'나는': 0, '최근': 1, '파리': 2, '여행을': 3, '다녀왔다': 4}\n",
            "idx2str:  {0: '나는', 1: '최근', 2: '파리', 3: '여행을', 4: '다녀왔다'}\n",
            "input_ids:  [0, 1, 2, 3, 4]\n"
          ]
        }
      ],
      "source": [
        "# 띄어쓰기 단위로 분리\n",
        "input_text = \"나는 최근 파리 여행을 다녀왔다\"\n",
        "input_text_list = input_text.split()\n",
        "print(\"input_text_list: \", input_text_list)\n",
        "\n",
        "# 토큰 -> 아이디 딕셔너리와 아이디 -> 토큰 딕셔너리 만들기\n",
        "str2idx = {word:idx for idx, word in enumerate(input_text_list)}\n",
        "idx2str = {idx:word for idx, word in enumerate(input_text_list)}\n",
        "print(\"str2idx: \", str2idx)\n",
        "print(\"idx2str: \", idx2str)\n",
        "\n",
        "# 토큰을 토큰 아이디로 변환\n",
        "input_ids = [str2idx[word] for word in input_text_list]\n",
        "print(\"input_ids: \", input_ids)"
      ]
    },
    {
      "cell_type": "markdown",
      "source": [
        "## 2. 토큰 아이디에서 벡터로 변환"
      ],
      "metadata": {
        "id": "Y3Mzc-9dPuSo"
      }
    },
    {
      "cell_type": "code",
      "source": [
        "import torch\n",
        "import torch.nn as nn\n",
        "\n",
        "embedding_dim = 16\n",
        "embed_layer = nn.Embedding(len(str2idx), embedding_dim)\n",
        "\n",
        "input_embeddings = embed_layer(torch.tensor(input_ids)) # (5, 16)\n",
        "input_embeddings = input_embeddings.unsqueeze(0) # (1, 5, 16)\n",
        "# input_embeddings.shape\n",
        "input_embeddings"
      ],
      "metadata": {
        "colab": {
          "base_uri": "https://localhost:8080/"
        },
        "id": "f3SPsqbvP0Dn",
        "outputId": "6c375d13-e9e6-45bd-b342-15a9e5970a72"
      },
      "execution_count": 3,
      "outputs": [
        {
          "output_type": "execute_result",
          "data": {
            "text/plain": [
              "tensor([[[ 0.6579,  0.7739,  0.2675,  0.0124, -0.5073, -0.8846,  0.2332,\n",
              "           1.6807,  0.9881, -0.5445,  0.6446, -0.7269, -1.5648,  0.5873,\n",
              "           0.5666,  0.7179],\n",
              "         [-0.8121, -1.3139,  0.1626,  0.7064, -2.7119,  0.8493,  0.8502,\n",
              "          -0.3744,  0.6835,  0.3048,  1.2164,  1.0019, -0.9343,  0.2284,\n",
              "           0.2863, -1.4321],\n",
              "         [ 1.2773,  0.4492, -0.3486,  0.3783, -0.2183,  0.3061,  0.2332,\n",
              "           0.5297,  0.3130, -0.4391, -0.0204, -2.5164,  1.3610,  0.0776,\n",
              "          -1.4333, -0.1875],\n",
              "         [-1.2219, -1.1149, -0.4634, -0.1875, -1.5990,  0.0507,  0.1052,\n",
              "          -1.1133, -0.5529,  0.2957, -0.0233,  0.6669, -0.9267,  1.4350,\n",
              "           0.5256, -0.7110],\n",
              "         [ 1.3427, -0.4236,  0.6874,  0.2332, -0.7898, -1.4387,  0.1010,\n",
              "          -0.8769, -0.2246,  0.0749, -0.1242, -2.3977, -0.2805,  1.7240,\n",
              "          -2.1118, -1.1598]]], grad_fn=<UnsqueezeBackward0>)"
            ]
          },
          "metadata": {},
          "execution_count": 3
        }
      ]
    },
    {
      "cell_type": "markdown",
      "source": [
        "## 3. 절대적 위치 인코딩"
      ],
      "metadata": {
        "id": "Y7SBgnmsRAXH"
      }
    },
    {
      "cell_type": "code",
      "source": [
        "embedding_dim = 16 # (예: \"사과\" → [0.1, -0.3, ..., 0.5])\n",
        "max_position = 12 # 문장은 최대 12단어까지 있다고 생각\n",
        "\n",
        "# 토큰 임베딩 층 생성\n",
        "embed_layer = nn.Embedding(len(str2idx), embedding_dim) # 단어들을 숫자 벡터로 바꿔주는 사전 (예: \"사과\"는 [0.1, 0.2, ..., 0.9])\n",
        "# 위치 인코딩 층 생성\n",
        "position_embed_layer = nn.Embedding(max_position, embedding_dim) # 단어가 몇 번째에 있는지, 그 위치도 벡터로 변경 (예: 첫 번째 단어는 [0.05, 0.02, ..., 0.1])\n",
        "\n",
        "position_ids = torch.arange(len(input_ids), dtype=torch.long).unsqueeze(0) # (예: 단어가 5개라면 → 위치 번호는 [0, 1, 2, 3, 4])\n",
        "position_encodings = position_embed_layer(position_ids) # 위치 번호를 숫자 벡터로 변경\n",
        "token_embeddings = embed_layer(torch.tensor(input_ids)) # 진짜 단어들을 숫자 벡터로\n",
        "token_embeddings = token_embeddings.unsqueeze(0) # 묶어서 하나의 문장(배치)로\n",
        "# 토큰 임베딩과 위치 인코딩을 더해 최종 입력 임베딩 생성\n",
        "input_embeddings = token_embeddings + position_encodings # 단어 정보 + 위치 정보\n",
        "input_embeddings.shape # 문장 1개, 단어 5개, 숫자 16개짜리 벡터"
      ],
      "metadata": {
        "colab": {
          "base_uri": "https://localhost:8080/"
        },
        "id": "UB89zFW2RGDH",
        "outputId": "3a9ee915-1b86-48fa-cd32-3db82550215b"
      },
      "execution_count": 4,
      "outputs": [
        {
          "output_type": "execute_result",
          "data": {
            "text/plain": [
              "torch.Size([1, 5, 16])"
            ]
          },
          "metadata": {},
          "execution_count": 4
        }
      ]
    },
    {
      "cell_type": "markdown",
      "source": [
        "## 4. 쿼리, 키, 값 벡터를 만드는 nn.Linear 층"
      ],
      "metadata": {
        "id": "2hAhmdjqy5Y8"
      }
    },
    {
      "cell_type": "code",
      "source": [
        "head_dim = 16\n",
        "\n",
        "# 쿼리, 키, 값을 계산하기 위한 변환\n",
        "weight_q = nn.Linear(embedding_dim, head_dim)\n",
        "weight_k = nn.Linear(embedding_dim, head_dim)\n",
        "weight_v = nn.Linear(embedding_dim, head_dim)\n",
        "# 변환 수행\n",
        "querys = weight_q(input_embeddings) # (1, 5, 16)\n",
        "keys = weight_k(input_embeddings) # (1, 5, 16)\n",
        "values = weight_v(input_embeddings) # (1, 5, 16)"
      ],
      "metadata": {
        "id": "bEiduxHxy-X_"
      },
      "execution_count": 5,
      "outputs": []
    },
    {
      "cell_type": "markdown",
      "source": [
        "## 5. 스케일 점곱 방식의 어텐션"
      ],
      "metadata": {
        "id": "ZlFbpKhmzTCl"
      }
    },
    {
      "cell_type": "code",
      "source": [
        "from math import sqrt\n",
        "import torch.nn.functional as F\n",
        "\n",
        "def compute_attention(querys, keys, values, is_causal=False):\n",
        "\tdim_k = querys.size(-1) # 16\n",
        "\tscores = querys @ keys.transpose(-2, -1) / sqrt(dim_k)\n",
        "\tweights = F.softmax(scores, dim=-1)\n",
        "\treturn weights @ values"
      ],
      "metadata": {
        "id": "2qrw-Ik7zYvG"
      },
      "execution_count": 6,
      "outputs": []
    },
    {
      "cell_type": "markdown",
      "source": [
        "## 6. 어텐션 연산의 입력과 출력"
      ],
      "metadata": {
        "id": "4VQ5BzG-z2EC"
      }
    },
    {
      "cell_type": "code",
      "source": [
        "print(\"원본 입력 형태: \", input_embeddings.shape)\n",
        "\n",
        "after_attention_embeddings = compute_attention(querys, keys, values)\n",
        "\n",
        "print(\"어텐션 적용 후 형태: \", after_attention_embeddings.shape)\n",
        "# 원본 입력 형태:  torch.Size([1, 5, 16])\n",
        "# 어텐션 적용 후 형태:  torch.Size([1, 5, 16])\n",
        "after_attention_embeddings"
      ],
      "metadata": {
        "colab": {
          "base_uri": "https://localhost:8080/"
        },
        "id": "d_iqpUqM0EnT",
        "outputId": "33889412-586b-4e5d-857e-a2c8455d416b"
      },
      "execution_count": 7,
      "outputs": [
        {
          "output_type": "stream",
          "name": "stdout",
          "text": [
            "원본 입력 형태:  torch.Size([1, 5, 16])\n",
            "어텐션 적용 후 형태:  torch.Size([1, 5, 16])\n"
          ]
        },
        {
          "output_type": "execute_result",
          "data": {
            "text/plain": [
              "tensor([[[-0.0153, -0.2035, -0.4220, -0.0793, -0.4480, -0.6191, -0.2218,\n",
              "           0.3179,  0.2985,  0.0858,  0.0549, -0.3632,  0.5996, -0.1475,\n",
              "          -0.3218, -0.2537],\n",
              "         [ 0.3496, -0.7060, -0.2552,  0.1710, -0.2656, -0.5021,  0.0790,\n",
              "           0.2876,  0.2558,  0.3944,  0.2773, -0.6310,  0.5420,  0.1765,\n",
              "          -0.3556, -0.2713],\n",
              "         [ 0.2573, -0.4879, -0.2974, -0.0011, -0.3615, -0.4739, -0.0488,\n",
              "           0.2732,  0.3677,  0.2641,  0.2254, -0.5755,  0.5497,  0.0602,\n",
              "          -0.4476, -0.1307],\n",
              "         [ 0.0402, -0.3269, -0.3870,  0.1027, -0.4164, -0.6663, -0.0971,\n",
              "           0.3332,  0.1425,  0.1342,  0.1187, -0.3641,  0.5396, -0.0361,\n",
              "          -0.2518, -0.4468],\n",
              "         [ 0.2968, -0.7680, -0.3206,  0.0824, -0.1973, -0.5305,  0.0149,\n",
              "           0.3916,  0.3296,  0.3971,  0.2235, -0.4591,  0.6937,  0.0932,\n",
              "          -0.2164, -0.2621]]], grad_fn=<UnsafeViewBackward0>)"
            ]
          },
          "metadata": {},
          "execution_count": 7
        }
      ]
    },
    {
      "cell_type": "markdown",
      "source": [
        "## 7. 어텐션 연산을 수행하는 AttentionHead 클래스"
      ],
      "metadata": {
        "id": "AtTiUwgci0n9"
      }
    },
    {
      "cell_type": "code",
      "source": [
        "class AttentionHead(nn.Module):\n",
        "  def __init__(self, token_embed_dim, head_dim, is_causal=False):\n",
        "    super().__init__()\n",
        "    self.is_causal = is_causal\n",
        "    self.weight_q = nn.Linear(token_embed_dim, head_dim) # 쿼리 벡터 생성을 위한 선형 층\n",
        "    self.weight_k = nn.Linear(token_embed_dim, head_dim) # 키 벡터 생성을 위한 선형 층\n",
        "    self.weight_v = nn.Linear(token_embed_dim, head_dim) # 값 벡터 생성을 위한 선형 층\n",
        "\n",
        "  def forward(self, querys, keys, values):\n",
        "    outputs = compute_attention(\n",
        "        self.weight_q(querys),  # 쿼리 벡터\n",
        "        self.weight_k(keys),    # 키 벡터\n",
        "        self.weight_v(values),  # 값 벡터\n",
        "        is_causal=self.is_causal\n",
        "    )\n",
        "    return outputs\n",
        "\n",
        "attention_head = AttentionHead(embedding_dim, embedding_dim)\n",
        "after_attention_embeddings = attention_head(input_embeddings, input_embeddings, input_embeddings)"
      ],
      "metadata": {
        "id": "6onVNbzsi4cw"
      },
      "execution_count": 9,
      "outputs": []
    },
    {
      "cell_type": "markdown",
      "source": [
        "## 8. 멀티 헤드 어텐션 구현"
      ],
      "metadata": {
        "id": "qg9NYUF4jkNa"
      }
    },
    {
      "cell_type": "code",
      "source": [
        "class MultiheadAttention(nn.Module):\n",
        "  def __init__(self, token_embed_dim, d_model, n_head, is_causal=False):\n",
        "    super().__init__()\n",
        "    self.n_head = n_head\n",
        "    self.is_causal = is_causal\n",
        "    self.weight_q = nn.Linear(token_embed_dim, d_model)\n",
        "    self.weight_k = nn.Linear(token_embed_dim, d_model)\n",
        "    self.weight_v = nn.Linear(token_embed_dim, d_model)\n",
        "    self.concat_linear = nn.Linear(d_model, d_model)\n",
        "\n",
        "  def forward(self, querys, keys, values):\n",
        "    B, T, C = querys.size()\n",
        "    querys = self.weight_q(querys).view(B, T, self.n_head, C // self.n_head).transpose(1, 2)\n",
        "    keys = self.weight_k(keys).view(B, T, self.n_head, C // self.n_head).transpose(1, 2)\n",
        "    values = self.weight_v(values).view(B, T, self.n_head, C // self.n_head).transpose(1, 2)\n",
        "    attention = compute_attention(querys, keys, values, self.is_causal)\n",
        "    output = attention.transpose(1, 2).contiguous().view(B, T, C)\n",
        "    output = self.concat_linear(output)\n",
        "    return output\n",
        "\n",
        "n_head = 4\n",
        "mh_attention = MultiheadAttention(embedding_dim, embedding_dim, n_head)\n",
        "after_attention_embeddings = mh_attention(input_embeddings, input_embeddings, input_embeddings)\n",
        "after_attention_embeddings.shape"
      ],
      "metadata": {
        "colab": {
          "base_uri": "https://localhost:8080/"
        },
        "id": "iehwo6dWjm6D",
        "outputId": "69d5733b-03c8-4403-dc19-dadf3a40e086"
      },
      "execution_count": 10,
      "outputs": [
        {
          "output_type": "execute_result",
          "data": {
            "text/plain": [
              "torch.Size([1, 5, 16])"
            ]
          },
          "metadata": {},
          "execution_count": 10
        }
      ]
    },
    {
      "cell_type": "markdown",
      "source": [
        "## 9. 층 정규화 코드"
      ],
      "metadata": {
        "id": "1c2GydjLjqvd"
      }
    },
    {
      "cell_type": "code",
      "source": [
        "norm = nn.LayerNorm(embedding_dim)\n",
        "norm_x = norm(input_embeddings)\n",
        "norm_x.shape # torch.Size([1, 5, 16])\n",
        "\n",
        "norm_x.mean(dim=-1).data, norm_x.std(dim=-1).data\n",
        "\n",
        "# (tensor([[ 2.2352e-08, -1.1176e-08, -7.4506e-09, -3.9116e-08, -1.8626e-08]]),\n",
        "#  tensor([[1.0328, 1.0328, 1.0328, 1.0328, 1.0328]]))"
      ],
      "metadata": {
        "colab": {
          "base_uri": "https://localhost:8080/"
        },
        "id": "6ogkEV1ijtdq",
        "outputId": "c81d7ea7-a83a-4122-d11c-a5ea2695240e"
      },
      "execution_count": 11,
      "outputs": [
        {
          "output_type": "execute_result",
          "data": {
            "text/plain": [
              "(tensor([[ 1.4901e-08,  7.4506e-09, -2.9802e-08,  2.9802e-08, -7.4506e-09]]),\n",
              " tensor([[1.0328, 1.0328, 1.0328, 1.0328, 1.0328]]))"
            ]
          },
          "metadata": {},
          "execution_count": 11
        }
      ]
    },
    {
      "cell_type": "markdown",
      "source": [
        "## 10. 피드 포워드 층 코드"
      ],
      "metadata": {
        "id": "SwXlnciwjyN4"
      }
    },
    {
      "cell_type": "code",
      "source": [
        "class PreLayerNormFeedForward(nn.Module):\n",
        "  def __init__(self, d_model, dim_feedforward, dropout):\n",
        "    super().__init__()\n",
        "    self.linear1 = nn.Linear(d_model, dim_feedforward) # 선형 층 1\n",
        "    self.linear2 = nn.Linear(dim_feedforward, d_model) # 선형 층 2\n",
        "    self.dropout1 = nn.Dropout(dropout) # 드랍아웃 층 1\n",
        "    self.dropout2 = nn.Dropout(dropout) # 드랍아웃 층 2\n",
        "    self.activation = nn.GELU() # 활성 함수\n",
        "    self.norm = nn.LayerNorm(d_model) # 층 정규화\n",
        "\n",
        "  def forward(self, src):\n",
        "    x = self.norm(src)\n",
        "    x = x + self.linear2(self.dropout1(self.activation(self.linear1(x))))\n",
        "    x = self.dropout2(x)\n",
        "    return x"
      ],
      "metadata": {
        "id": "NNPwqiY7j0nB"
      },
      "execution_count": 12,
      "outputs": []
    },
    {
      "cell_type": "markdown",
      "source": [
        "## 11. 인코드 층"
      ],
      "metadata": {
        "id": "gEMSwz8nj3fa"
      }
    },
    {
      "cell_type": "code",
      "source": [
        "class TransformerEncoderLayer(nn.Module):\n",
        "  def __init__(self, d_model, nhead, dim_feedforward, dropout):\n",
        "    super().__init__()\n",
        "    self.attn = MultiheadAttention(d_model, d_model, nhead) # 멀티 헤드 어텐션 클래스\n",
        "    self.norm1 = nn.LayerNorm(d_model) # 층 정규화\n",
        "    self.dropout1 = nn.Dropout(dropout) # 드랍아웃\n",
        "    self.feed_forward = PreLayerNormFeedForward(d_model, dim_feedforward, dropout) # 피드포워드\n",
        "\n",
        "  def forward(self, src):\n",
        "    norm_x = self.norm1(src)\n",
        "    attn_output = self.attn(norm_x, norm_x, norm_x)\n",
        "    x = src + self.dropout1(attn_output) # 잔차 연결\n",
        "\n",
        "    # 피드 포워드\n",
        "    x = self.feed_forward(x)\n",
        "    return x"
      ],
      "metadata": {
        "id": "FLDKNLWbj56z"
      },
      "execution_count": 13,
      "outputs": []
    },
    {
      "cell_type": "markdown",
      "source": [
        "## 12. 인코더 구현"
      ],
      "metadata": {
        "id": "JTdMk271j8Vu"
      }
    },
    {
      "cell_type": "code",
      "source": [
        "import copy\n",
        "def get_clones(module, N):\n",
        "  return nn.ModuleList([copy.deepcopy(module) for i in range(N)])\n",
        "\n",
        "class TransformerEncoder(nn.Module):\n",
        "  def __init__(self, encoder_layer, num_layers):\n",
        "    super().__init__()\n",
        "    self.layers = get_clones(encoder_layer, num_layers)\n",
        "    self.num_layers = num_layers\n",
        "    self.norm = norm\n",
        "\n",
        "  def forward(self, src):\n",
        "    output = src\n",
        "    for mod in self.layers:\n",
        "        output = mod(output)\n",
        "    return output"
      ],
      "metadata": {
        "id": "R1eKYKf0j-q2"
      },
      "execution_count": 15,
      "outputs": []
    },
    {
      "cell_type": "markdown",
      "source": [
        "## 13. 디코더에서 어텐션 연산(마스크 어텐션)"
      ],
      "metadata": {
        "id": "qusp6jg8kF1U"
      }
    },
    {
      "cell_type": "code",
      "source": [
        "def compute_attention(querys, keys, values, is_causal=False):\n",
        "\tdim_k = querys.size(-1) # 16\n",
        "\tscores = querys @ keys.transpose(-2, -1) / sqrt(dim_k) # (1, 5, 5)\n",
        "\tif is_causal:\n",
        "\t\tquery_length = querys.size(2)\n",
        "\t\tkey_length = keys.size(2)\n",
        "\t\ttemp_mask = torch.ones(query_length, key_length, dtype=torch.bool).tril(diagonal=0)\n",
        "\t\tscores = scores.masked_fill(temp_mask == False, float(\"-inf\"))\n",
        "\tweights = F.softmax(scores, dim=-1) # (1, 5, 5)\n",
        "\treturn weights @ values # (1, 5, 16)"
      ],
      "metadata": {
        "id": "-_tyPkNfkJqb"
      },
      "execution_count": 16,
      "outputs": []
    },
    {
      "cell_type": "markdown",
      "source": [
        "## 14. 크로스 어텐션이 포함된 디코더 층"
      ],
      "metadata": {
        "id": "e2o7bdJ6kLpd"
      }
    },
    {
      "cell_type": "code",
      "source": [
        "class TransformerDecoderLayer(nn.Module):\n",
        "  def __init__(self, d_model, nhead, dim_feedforward=2048, dropout=0.1):\n",
        "    super().__init__()\n",
        "    self.self_attn = MultiheadAttention(d_model, d_model, nhead)\n",
        "    self.multihead_attn = MultiheadAttention(d_model, d_model, nhead)\n",
        "    self.feed_forward = PreLayerNormFeedForward(d_model, dim_feedforward, dropout)\n",
        "\n",
        "    self.norm1 = nn.LayerNorm(d_model)\n",
        "    self.norm2 = nn.LayerNorm(d_model)\n",
        "    self.dropout1 = nn.Dropout(dropout)\n",
        "    self.dropout2 = nn.Dropout(dropout)\n",
        "\n",
        "  def forward(self, tgt, encoder_output, is_causal=True):\n",
        "    # 셀프 어텐션 연산\n",
        "    x = self.norm1(tgt)\n",
        "    x = x + self.dropout1(self.self_attn(x, x, x, is_causal=is_causal))\n",
        "    # 크로스 어텐션 연산\n",
        "    x = self.norm2(x)\n",
        "    x = x + self.dropout2(self.multihead_attn(x, encoder_output, encoder_output))\n",
        "    # 피드 포워드 연산\n",
        "    x = self.feed_forward(x)\n",
        "    return x"
      ],
      "metadata": {
        "id": "BY-eeTGzkOIr"
      },
      "execution_count": null,
      "outputs": []
    },
    {
      "cell_type": "markdown",
      "source": [
        "## 15. 디코더 구현"
      ],
      "metadata": {
        "id": "NkZEF7rikQI8"
      }
    },
    {
      "cell_type": "code",
      "source": [
        "import copy\n",
        "def get_clones(module, N):\n",
        "  return nn.ModuleList([copy.deepcopy(module) for i in range(N)])\n",
        "\n",
        "class TransformerDecoder(nn.Module):\n",
        "  def __init__(self, decoder_layer, num_layers):\n",
        "    super().__init__()\n",
        "    self.layers = get_clones(decoder_layer, num_layers)\n",
        "    self.num_layers = num_layers\n",
        "\n",
        "  def forward(self, tgt, src):\n",
        "    output = tgt\n",
        "    for mod in self.layers:\n",
        "        output = mod(output, src)\n",
        "    return output"
      ],
      "metadata": {
        "id": "6dr3xYP8kS5M"
      },
      "execution_count": 17,
      "outputs": []
    }
  ]
}